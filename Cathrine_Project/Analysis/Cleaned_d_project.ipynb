{
 "cells": [
  {
   "cell_type": "code",
   "execution_count": 8,
   "metadata": {},
   "outputs": [],
   "source": [
    "import pandas as pd\n"
   ]
  },
  {
   "cell_type": "code",
   "execution_count": 22,
   "metadata": {},
   "outputs": [
    {
     "name": "stdout",
     "output_type": "stream",
     "text": [
      "Last 8 rows successfully removed!\n"
     ]
    }
   ],
   "source": [
    "# Load the CSV file\n",
    "file_path = ('C:\\\\Users\\\\TECHSKILLS 360\\\\Desktop\\\\CLEANED UJUZI\\\\D_Ujuzi.csv')  # Update with your file path\n",
    "\n",
    "# Read the CSV file\n",
    "df = pd.read_csv(file_path)\n",
    "\n",
    "# Specify the number of rows to drop from the end (e.g., drop the last 3 rows)\n",
    "n = 8\n",
    "df_cleaned = df.iloc[:-8].reset_index(drop=True)\n",
    "\n",
    "print(f\"Last {8} rows successfully removed!\")\n",
    "\n"
   ]
  },
  {
   "cell_type": "code",
   "execution_count": 13,
   "metadata": {},
   "outputs": [
    {
     "name": "stdout",
     "output_type": "stream",
     "text": [
      "Index([' ', 'No', 'STUDENTS_NAME', 'UFA Reg No', 'Time taken', 'Final Theory',\n",
      "       'Practical(A) out of 80', 'Oral Exam out of 20', 'Final Practical',\n",
      "       'Final Icare (Theory + Practical)', 'Hospital Internship Score',\n",
      "       'Final Score', 'Final Grade', 'ID Numbers',\n",
      "       'Hospital Internship Attended - 2', 'Start Date of Class',\n",
      "       'End Date of Class', 'Class ID', 'Year', 'Branch', 'Course',\n",
      "       'Month Of Class', 'Type of Class', 'Status',\n",
      "       'School Internship attended', 'School Internship score'],\n",
      "      dtype='object')\n"
     ]
    }
   ],
   "source": [
    "# Print out the column names\n",
    "print(df.columns)"
   ]
  },
  {
   "cell_type": "code",
   "execution_count": 15,
   "metadata": {},
   "outputs": [],
   "source": [
    "#cleaning the time row and reamaining with only date without the time\n",
    "# Load the CSV file\n",
    "file_path = 'D_Ujuzi2.csv'  # Update this with your actual file path\n",
    "\n",
    "# Read the CSV file\n",
    "df = pd.read_csv(file_path)\n",
    "\n",
    "# Convert 'start date' and 'end date' to date only \n",
    "# Convert 'Start Date of Class' and 'End of Date Class' to date only, handling invalid data\n",
    "df['Start Date of Class'] = pd.to_datetime(df['Start Date of Class'], errors='coerce').dt.date\n",
    "df['End Date of Class'] = pd.to_datetime(df['End Date of Class'], errors='coerce').dt.date\n",
    "\n",
    "\n",
    "# Save the updated DataFrame back to a new CSV file\n",
    "df.to_csv('D_Ujuzi3.csv', index=False)\n"
   ]
  },
  {
   "cell_type": "code",
   "execution_count": 18,
   "metadata": {},
   "outputs": [
    {
     "name": "stdout",
     "output_type": "stream",
     "text": [
      "Last 1 rows successfully removed!\n"
     ]
    }
   ],
   "source": [
    "# Load the CSV file\n",
    "file_path = ('C:\\\\Users\\\\TECHSKILLS 360\\\\Desktop\\\\CLEANED UJUZI\\\\D_Ujuzi3.csv')  # Update with your file path\n",
    "\n",
    "# Read the CSV file\n",
    "df = pd.read_csv(file_path)\n",
    "\n",
    "# Specify the number of rows to drop from the end (e.g., drop the last 3 rows)\n",
    "n = 1\n",
    "df_cleaned = df.iloc[:-1].reset_index(drop=True)\n",
    "\n",
    "print(f\"Last {1} rows successfully removed!\")"
   ]
  },
  {
   "cell_type": "code",
   "execution_count": 21,
   "metadata": {},
   "outputs": [],
   "source": [
    "# Load the CSV file \n",
    "file_path = 'D_Ujuzi3.csv'  \n",
    "df = pd.read_csv(file_path)\n",
    "\n",
    "# Convert the column to numeric, forcing errors to NaN\n",
    "df['Practical(A) out of 80'] = pd.to_numeric(df['Practical(A) out of 80'], errors='coerce')\n",
    "\n",
    "# Exam2: valid range is 0-80\n",
    "df['Practical(A) out of 80'] = df['Practical(A) out of 80'].between(0, 80)\n",
    "\n",
    "# Convert the column to numeric, forcing errors to NaN\n",
    "df['Final Theory'] = pd.to_numeric(df['Final Theory'], errors='coerce')\n",
    "\n",
    "# Exam1: valid range is 0-100\n",
    "df['Final Theory'] = df['Final Theory'].between(0, 100)\n",
    "\n",
    "# convert the column to numeric\n",
    "df['Oral Exam out of 20'] = pd.to_numeric(df['Oral Exam out of 20'], errors='coerce')\n",
    "\n",
    "# Exam3: valid range is 0-20\n",
    "df[ 'Oral Exam out of 20'] = df[ 'Oral Exam out of 20'].between(0, 20)\n",
    "\n",
    "# convert the column to numeric\n",
    "df['Final Practical'] = pd.to_numeric(df['Final Practical'], errors='coerce')\n",
    "\n",
    "# Exam4: valid range is 0-100\n",
    "df['Final Practical'] = df['Final Practical'].between(0, 100)\n",
    "\n",
    "#convert the column to numeric\n",
    "df[ 'Final Icare (Theory + Practical)']=pd.to_numeric(df[ 'Final Icare (Theory + Practical)'], errors='coerce')\n",
    "\n",
    "#Exam5: valid range is 0-100\n",
    "df[ 'Final Icare (Theory + Practical)']=df[ 'Final Icare (Theory + Practical)'].between(0,100)"
   ]
  }
 ],
 "metadata": {
  "kernelspec": {
   "display_name": "Python 3",
   "language": "python",
   "name": "python3"
  },
  "language_info": {
   "codemirror_mode": {
    "name": "ipython",
    "version": 3
   },
   "file_extension": ".py",
   "mimetype": "text/x-python",
   "name": "python",
   "nbconvert_exporter": "python",
   "pygments_lexer": "ipython3",
   "version": "3.12.3"
  }
 },
 "nbformat": 4,
 "nbformat_minor": 2
}

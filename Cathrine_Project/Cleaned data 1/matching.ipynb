{
 "cells": [
  {
   "cell_type": "code",
   "execution_count": 1,
   "metadata": {},
   "outputs": [],
   "source": [
    "import pandas as pd\n",
    "import numpy as np"
   ]
  },
  {
   "cell_type": "code",
   "execution_count": 2,
   "metadata": {},
   "outputs": [],
   "source": [
    "df=pd.read_csv(\"C:\\\\Users\\\\TECHSKILLS 360\\\\Desktop\\\\CLEANED CARE GIVER\\\\a1clean_lang2.csv\")"
   ]
  },
  {
   "cell_type": "code",
   "execution_count": 3,
   "metadata": {},
   "outputs": [
    {
     "name": "stdout",
     "output_type": "stream",
     "text": [
      "Index(['ID', 'UFA Reg No', 'Caregiver_Name', 'Date of Joining',\n",
      "       'E-mail Address', 'Gender', 'Date of Birth', 'ID Number',\n",
      "       'Mobile Number 1', 'Mobile Number 2', 'Address', 'Location',\n",
      "       'State/Province', 'ZIP/Postal Code', 'Country/Region', 'Language 1',\n",
      "       'Language 2', 'Notes / Special Circumstances', 'Emergency Contact Name',\n",
      "       'Emergency Contact Details', 'Speciality',\n",
      "       'Major Duties and Responsibilities', 'Soft Skills',\n",
      "       'Most Recent Work Experience', 'Hospital Score', 'Ujuzi Fursa Score',\n",
      "       'About Me', 'Note', 'Reason', 'Current Date', 'System Number',\n",
      "       'Client Management Signature', 'Caregiver Signature',\n",
      "       'Years Of Experience', 'Quality Assurance Signature'],\n",
      "      dtype='object')\n"
     ]
    }
   ],
   "source": [
    "print(df.columns)"
   ]
  },
  {
   "cell_type": "code",
   "execution_count": 4,
   "metadata": {},
   "outputs": [],
   "source": [
    "df = pd.read_csv('C:\\\\Users\\\\TECHSKILLS 360\\\\Desktop\\\\CLEANED CARE GIVER\\\\d_clean.csv')  # First CSV (with Status initially set to 'unknown')\n",
    "a1 = pd.read_csv('C:\\\\Users\\\\TECHSKILLS 360\\\\Desktop\\\\CLEANED CARE GIVER\\\\a1clean_lang2.csv')"
   ]
  },
  {
   "cell_type": "code",
   "execution_count": 5,
   "metadata": {},
   "outputs": [
    {
     "data": {
      "text/plain": [
       "Index(['ID', 'UFA Reg No', 'Caregiver_Name', 'Date of Joining',\n",
       "       'E-mail Address', 'Gender', 'Date of Birth', 'ID Number',\n",
       "       'Mobile Number 1', 'Mobile Number 2', 'Address', 'Location',\n",
       "       'State/Province', 'ZIP/Postal Code', 'Country/Region', 'Language 1',\n",
       "       'Language 2', 'Notes / Special Circumstances', 'Emergency Contact Name',\n",
       "       'Emergency Contact Details', 'Speciality',\n",
       "       'Major Duties and Responsibilities', 'Soft Skills',\n",
       "       'Most Recent Work Experience', 'Hospital Score', 'Ujuzi Fursa Score',\n",
       "       'About Me', 'Note', 'Reason', 'Current Date', 'System Number',\n",
       "       'Client Management Signature', 'Caregiver Signature',\n",
       "       'Years Of Experience', 'Quality Assurance Signature'],\n",
       "      dtype='object')"
      ]
     },
     "execution_count": 5,
     "metadata": {},
     "output_type": "execute_result"
    }
   ],
   "source": [
    "a1.columns"
   ]
  },
  {
   "cell_type": "code",
   "execution_count": 6,
   "metadata": {},
   "outputs": [
    {
     "data": {
      "text/plain": [
       "Index(['Unnamed: 0', 'UFA Reg No', 'STUDENTS_NAME', 'Status',\n",
       "       'Handout 1 Score', 'Handout 2 Score', 'Handout 3 Score',\n",
       "       'Handout 4 Score', 'Handout 5 Score', 'Handout 6 Score',\n",
       "       ...\n",
       "       'Reason Internship not allocated', 'Hospital Internship Score',\n",
       "       'Mock_Score', 'Internship Start Date', 'Internship End Date',\n",
       "       'Unnamed: 129', 'Duplicates', 'Branch', 'School', 'Year'],\n",
       "      dtype='object', length=133)"
      ]
     },
     "execution_count": 6,
     "metadata": {},
     "output_type": "execute_result"
    }
   ],
   "source": [
    "df.columns"
   ]
  },
  {
   "cell_type": "code",
   "execution_count": 7,
   "metadata": {},
   "outputs": [
    {
     "name": "stdout",
     "output_type": "stream",
     "text": [
      "     Unnamed: 0 UFA Reg No         STUDENTS_NAME     Status Handout 1 Score  \\\n",
      "0             1    23-1157         Aisha Mohamed  Graduated           100.0   \n",
      "1             2        101    Rogena Brian Oresi    Unknown             0.0   \n",
      "2             3        102     Dickens Omushieni    Unknown             0.0   \n",
      "3             4        103  David Inziano Chanda    Unknown            Null   \n",
      "4             5        104       Dunford Nyagaka    Unknown             0.0   \n",
      "...         ...        ...                   ...        ...             ...   \n",
      "4561       Null       Null                  Null       Null            Null   \n",
      "4562       Null       Null                  Null       Null            Null   \n",
      "4563       Null       Null                  Null       Null            Null   \n",
      "4564       Null       Null                  Null       Null            Null   \n",
      "4565       Null       Null                  Null       Null            Null   \n",
      "\n",
      "     Handout 2 Score Handout 3 Score Handout 4 Score Handout 5 Score  \\\n",
      "0               84.0           100.0            91.0           100.0   \n",
      "1                0.0             0.0             0.0             0.0   \n",
      "2                0.0             0.0             0.0             0.0   \n",
      "3                0.0             0.0             0.0             0.0   \n",
      "4                0.0             0.0             0.0             0.0   \n",
      "...              ...             ...             ...             ...   \n",
      "4561            Null            Null            Null            Null   \n",
      "4562            Null            Null            Null            Null   \n",
      "4563            Null            Null            Null            Null   \n",
      "4564            Null            Null            Null            Null   \n",
      "4565            Null            Null            Null            Null   \n",
      "\n",
      "     Handout 6 Score  ... Ujuzi Fursa Score About Me Note Reason Current Date  \\\n",
      "0               83.0  ...               NaN      NaN  NaN    NaN          NaN   \n",
      "1                0.0  ...               NaN      NaN  NaN    NaN          NaN   \n",
      "2                0.0  ...               NaN      NaN  NaN    NaN          NaN   \n",
      "3                0.0  ...               NaN      NaN  NaN    NaN          NaN   \n",
      "4                0.0  ...              90.0      NaN  NaN    NaN          NaN   \n",
      "...              ...  ...               ...      ...  ...    ...          ...   \n",
      "4561            Null  ...               NaN      NaN  NaN    NaN          NaN   \n",
      "4562            Null  ...               NaN      NaN  NaN    NaN          NaN   \n",
      "4563            Null  ...               0.0      NaN  NaN    NaN     5/6/2024   \n",
      "4564            Null  ...               0.0      NaN  NaN    NaN    5/13/2024   \n",
      "4565            Null  ...               0.0      NaN  NaN    NaN    5/14/2024   \n",
      "\n",
      "     System Number Client Management Signature Caregiver Signature  \\\n",
      "0              NaN                         NaN                 NaN   \n",
      "1             71.0                       O.K.M               B.O.R   \n",
      "2             59.0                       R.N.K                 D.O   \n",
      "3              NaN                         L.O               D.I.C   \n",
      "4             31.0                       R.N.K                 D.N   \n",
      "...            ...                         ...                 ...   \n",
      "4561         134.0                         NaN                 NaN   \n",
      "4562           NaN                         NaN                 NaN   \n",
      "4563           0.0                       R.N.K               I.M.M   \n",
      "4564           0.0                       O.K.M                 E.O   \n",
      "4565           0.0                       R.N.K               J.M.K   \n",
      "\n",
      "     Years Of Experience Quality Assurance Signature  \n",
      "0                    NaN                         NaN  \n",
      "1                    2.0                         P.W  \n",
      "2                    NaN                         L.M  \n",
      "3                    2.0                         J.A  \n",
      "4                    3.0                         P.W  \n",
      "...                  ...                         ...  \n",
      "4561                 NaN                         NaN  \n",
      "4562                 NaN                         NaN  \n",
      "4563                 0.0                         P.M  \n",
      "4564                 0.0                         P.W  \n",
      "4565                 0.0                         P.W  \n",
      "\n",
      "[4566 rows x 167 columns]\n"
     ]
    }
   ],
   "source": [
    "# Load the two CSV files into DataFrames\n",
    "dclean_df = pd.read_csv('d_clean.csv')  # DataFrame with status initially set to 'unknown'\n",
    "a1_df = pd.read_csv('a1clean_lang2.csv')          # DataFrame with registration numbers\n",
    "\n",
    "# Merge the DataFrames based on the 'Reg_Number' column\n",
    "# Use a left join to keep all records from dclean_df and add a marker for matching registration numbers from a1_df\n",
    "merged_df = pd.merge(dclean_df, a1_df, on='UFA Reg No', how='left', indicator=True)\n",
    "\n",
    "# Update the 'Status' column:\n",
    "# 1. Set status to 'Graduated' if the registration number exists in a1_df (i.e., _merge is 'both')\n",
    "merged_df['Status'] = merged_df.apply(\n",
    "    lambda row: 'Graduated' if row['_merge'] == 'both' and row['Status'] == 'unknown' else row['Status'], axis=1)\n",
    "\n",
    "# Drop the '_merge' column, which was used only for merging purposes\n",
    "merged_df = merged_df.drop(columns=['_merge'])\n",
    "\n",
    "# Display the updated DataFrame\n",
    "print(merged_df)\n",
    "\n",
    "# Optionally, save the updated DataFrame back to a CSV file\n",
    "merged_df.to_csv('dclean_updated.csv', index=False)\n"
   ]
  }
 ],
 "metadata": {
  "kernelspec": {
   "display_name": "Python 3",
   "language": "python",
   "name": "python3"
  },
  "language_info": {
   "codemirror_mode": {
    "name": "ipython",
    "version": 3
   },
   "file_extension": ".py",
   "mimetype": "text/x-python",
   "name": "python",
   "nbconvert_exporter": "python",
   "pygments_lexer": "ipython3",
   "version": "3.12.3"
  }
 },
 "nbformat": 4,
 "nbformat_minor": 2
}
